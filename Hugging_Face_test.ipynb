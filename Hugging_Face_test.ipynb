{
 "cells": [
  {
   "cell_type": "code",
   "execution_count": 9,
   "id": "22598179",
   "metadata": {},
   "outputs": [
    {
     "name": "stderr",
     "output_type": "stream",
     "text": [
      "[W NNPACK.cpp:53] Could not initialize NNPACK! Reason: Unsupported hardware.\n"
     ]
    }
   ],
   "source": [
    "from transformers import BeitFeatureExtractor, BeitForSemanticSegmentation\n",
    "from datasets import load_dataset\n",
    "from PIL import Image\n",
    "import os\n",
    "from torchvision import transforms\n",
    "\n",
    "# load ADE20k image\n",
    "# ds = load_dataset(\"hf-internal-testing/fixtures_ade20k\", split=\"test\")\n",
    "train_img = \"../../ADEChallengeData2016/images/training/\"\n",
    "def get_img_path(path):\n",
    "    return [f for f in os.listdir(path)]\n",
    "\n",
    "# train_img_list = get_img_path(train_img)\n",
    "# input_image = Image.open(train_img + train_img_list[3])\n",
    "input_image = Image.open(\"deeplab1.png\")\n",
    "input_image = input_image.convert(\"RGB\")\n",
    "input_image = input_image.resize((640, 640))\n",
    "preprocess = transforms.Compose([\n",
    "    transforms.ToTensor(),\n",
    "    transforms.Normalize(mean=[0.485, 0.456, 0.406], std=[0.229, 0.224, 0.225]),\n",
    "])\n",
    "\n",
    "feature_extractor = BeitFeatureExtractor.from_pretrained('microsoft/beit-base-finetuned-ade-640-640')\n",
    "model = BeitForSemanticSegmentation.from_pretrained('microsoft/beit-base-finetuned-ade-640-640')\n",
    "\n",
    "inputs = feature_extractor(images=input_image, return_tensors=\"pt\")\n",
    "outputs = model(**inputs)\n",
    "# logits are of shape (batch_size, num_labels, height/4, width/4)\n",
    "logits = outputs.logits\n"
   ]
  },
  {
   "cell_type": "code",
   "execution_count": null,
   "id": "61233148",
   "metadata": {},
   "outputs": [],
   "source": []
  }
 ],
 "metadata": {
  "kernelspec": {
   "display_name": "Python 3 (ipykernel)",
   "language": "python",
   "name": "python3"
  },
  "language_info": {
   "codemirror_mode": {
    "name": "ipython",
    "version": 3
   },
   "file_extension": ".py",
   "mimetype": "text/x-python",
   "name": "python",
   "nbconvert_exporter": "python",
   "pygments_lexer": "ipython3",
   "version": "3.9.12"
  }
 },
 "nbformat": 4,
 "nbformat_minor": 5
}
