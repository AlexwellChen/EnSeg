{
 "cells": [
  {
   "cell_type": "markdown",
   "id": "3bd94b5c",
   "metadata": {},
   "source": [
    "### 加载模型推理预测结果"
   ]
  },
  {
   "cell_type": "markdown",
   "id": "54807a6c",
   "metadata": {},
   "source": [
    "#### 加载预训练模型"
   ]
  },
  {
   "cell_type": "code",
   "execution_count": null,
   "metadata": {},
   "outputs": [],
   "source": [
    "from tools import inference_img\n",
    "from dataset_tools import ADE20KDataset\n",
    "from dataset_tools import TensorDataset\n",
    "from mmseg.apis import init_segmentor\n",
    "from torchvision.transforms import Compose\n",
    "import torchvision.transforms as transforms\n",
    "from tqdm import tqdm\n",
    "import torch\n",
    "from mmseg.apis import init_segmentor, inference_segmentor, show_result_pyplot\n",
    "from mmseg.core.evaluation import get_palette\n",
    "\n",
    "\n",
    "\n",
    "pspnet_config_file = '../configs/pspnet/pspnet_r50-d8_512x512_80k_ade20k.py'\n",
    "pspnet_checkpoint_file = '../checkpoints/pspnet_r50-d8_512x512_80k_ade20k_20200615_014128-15a8b914.pth'\n",
    "pspnet_model = init_segmentor(pspnet_config_file, pspnet_checkpoint_file, device='cuda:0')\n",
    "    \n",
    "\n",
    "fcn_config_file = '../configs/fcn/fcn_r50-d8_512x512_80k_ade20k.py'\n",
    "fcn_checkpoint_file = '../checkpoints/fcn_r50-d8_512x512_80k_ade20k_20200614_144016-f8ac5082.pth'\n",
    "fcn_model = init_segmentor(fcn_config_file, fcn_checkpoint_file, device='cuda:0')\n",
    "\n",
    "\n",
    "deeplabv3plus_config_file = '../configs/deeplabv3plus/deeplabv3plus_r50-d8_512x512_80k_ade20k.py'\n",
    "deeplabv3plus_checkpoint_file = '../checkpoints/deeplabv3plus_r50-d8_512x512_80k_ade20k_20200614_185028-bf1400d8.pth'\n",
    "deeplabv3plus_model = init_segmentor(deeplabv3plus_config_file, deeplabv3plus_checkpoint_file, device='cuda:0')\n",
    "\n",
    "\n",
    "device = 'cuda:0'\n",
    "\n",
    "test_tensor_path = '/root/Desktop/我的网盘/inference_tensor_test/'\n",
    "test_img_path = '/root/Desktop/我的网盘/test_set/img_test/'\n",
    "test_label_path = '/root/Desktop/我的网盘/test_set/label/'\n",
    "\n",
    "test_tensor_dataset = TensorDataset(test_tensor_path, test_label_path, device)\n",
    "test_img_dataset = ADE20KDataset(test_img_path, test_label_path)"
   ]
  },
  {
   "cell_type": "code",
   "execution_count": null,
   "id": "24ec0153",
   "metadata": {},
   "outputs": [],
   "source": [
    "import matplotlib.pyplot as plt\n",
    "from PIL import Image\n",
    "\n",
    "original_img = test_img_dataset[22][0]\n",
    "plt.show(original_img)"
   ]
  },
  {
   "cell_type": "code",
   "execution_count": null,
   "id": "ec852d6f",
   "metadata": {},
   "outputs": [],
   "source": [
    "import numpy as np\n",
    "\n",
    "img_path = test_img_dataset.get_img_path(22)\n",
    "label = test_img_dataset.get_label_as_PIL(22)\n",
    "label = np.array(label, dtype = np.uint8)\n",
    "\n",
    "pspnet_result = inference_segmentor(pspnet_model, img_path)\n",
    "fcn_result = inference_segmentor(fcn_model, img_path)\n",
    "deeplabv3p_result = inference_segmentor(deeplabv3plus_model, img_path)"
   ]
  },
  {
   "cell_type": "markdown",
   "id": "f07e16b7",
   "metadata": {},
   "source": [
    "#### 加载EnSeg模型，推理fusion结果"
   ]
  },
  {
   "cell_type": "code",
   "execution_count": null,
   "id": "d0e9c3d7",
   "metadata": {},
   "outputs": [],
   "source": [
    "model = torch.load('/root/Desktop/我的网盘/fusion_model_100.pth')   \n",
    "model = model.to('cuda:0')\n",
    "\n",
    "tensor_dict, annotation_tensor = test_tensor_dataset[22]\n",
    "annotation_tensor -= 1 # 忽略背景类，将label范围从1-150变为0-149\n",
    "    \n",
    "deeplabv3p_logits_res = tensor_dict['deeplabv3p'].to(device)\n",
    "pspnet_logits_res = tensor_dict['pspnet'].to(device)\n",
    "fcn_logits_res = tensor_dict['fcn'].to(device)\n",
    "\n",
    "res = model.forward(deeplabv3p_logits_res, pspnet_logits_res, fcn_logits_res) # (150, H, W)\n",
    "enseg_result = res.argmax(0)"
   ]
  }
 ],
 "metadata": {
  "kernelspec": {
   "display_name": "Python 3.6.9 64-bit",
   "language": "python",
   "name": "python3"
  },
  "language_info": {
   "name": "python",
   "version": "3.6.9"
  },
  "vscode": {
   "interpreter": {
    "hash": "31f2aee4e71d21fbe5cf8b01ff0e069b9275f58929596ceb00d14d90e3e16cd6"
   }
  }
 },
 "nbformat": 4,
 "nbformat_minor": 5
}
