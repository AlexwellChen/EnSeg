{
 "cells": [
  {
   "cell_type": "code",
   "execution_count": 5,
   "id": "dd8fec94",
   "metadata": {},
   "outputs": [],
   "source": [
    "import os\n",
    "from PIL import Image\n",
    "from torchvision import transforms\n",
    "\n",
    "train_img = \"../ADEChallengeData2016/annotations/training/\"\n",
    "\n",
    "def get_img_path(path):\n",
    "    return [f for f in os.listdir(path)]\n",
    "\n",
    "train_img_list = get_img_path(train_img)\n",
    "input_image = Image.open(train_img + train_img_list[5])\n",
    "# input_image = input_image.convert(\"RGB\")\n",
    "preprocess = transforms.Compose([\n",
    "    transforms.ToTensor()\n",
    "])\n",
    "\n",
    "input_tensor = preprocess(input_image)"
   ]
  },
  {
   "cell_type": "code",
   "execution_count": 20,
   "id": "d37ff8aa",
   "metadata": {},
   "outputs": [
    {
     "name": "stdout",
     "output_type": "stream",
     "text": [
      "torch.Size([512, 771])\n"
     ]
    }
   ],
   "source": [
    "import cv2 as cv\n",
    "import torch\n",
    "img = cv.imread(train_img + train_img_list[5], cv.IMREAD_GRAYSCALE)\n",
    "img_tensor = torch.tensor(img)  # tensor数据格式是torch(C,H,W)\n",
    "print(img_tensor.size())"
   ]
  },
  {
   "cell_type": "code",
   "execution_count": 21,
   "id": "601bb330",
   "metadata": {},
   "outputs": [
    {
     "data": {
      "text/plain": [
       "tensor([[ 0,  0,  0,  ...,  0,  0,  0],\n",
       "        [ 0,  6,  6,  ...,  1,  1,  1],\n",
       "        [ 0,  6,  6,  ...,  1,  1,  1],\n",
       "        ...,\n",
       "        [ 0,  4,  4,  ..., 16, 16,  0],\n",
       "        [ 0,  4,  4,  ..., 16, 16,  0],\n",
       "        [ 0,  4,  4,  ..., 16, 16,  0]], dtype=torch.uint8)"
      ]
     },
     "execution_count": 21,
     "metadata": {},
     "output_type": "execute_result"
    }
   ],
   "source": [
    "img_tensor"
   ]
  },
  {
   "cell_type": "code",
   "execution_count": 7,
   "id": "c1614b08",
   "metadata": {},
   "outputs": [
    {
     "data": {
      "text/plain": [
       "tensor([[[0.0000, 0.0000, 0.0000,  ..., 0.0000, 0.0000, 0.0000],\n",
       "         [0.0000, 0.0235, 0.0235,  ..., 0.0039, 0.0039, 0.0039],\n",
       "         [0.0000, 0.0235, 0.0235,  ..., 0.0039, 0.0039, 0.0039],\n",
       "         ...,\n",
       "         [0.0000, 0.0157, 0.0157,  ..., 0.0627, 0.0627, 0.0000],\n",
       "         [0.0000, 0.0157, 0.0157,  ..., 0.0627, 0.0627, 0.0000],\n",
       "         [0.0000, 0.0157, 0.0157,  ..., 0.0627, 0.0627, 0.0000]]])"
      ]
     },
     "execution_count": 7,
     "metadata": {},
     "output_type": "execute_result"
    }
   ],
   "source": [
    "input_tensor"
   ]
  },
  {
   "cell_type": "code",
   "execution_count": null,
   "id": "b74acce6",
   "metadata": {},
   "outputs": [],
   "source": []
  }
 ],
 "metadata": {
  "kernelspec": {
   "display_name": "Python 3 (ipykernel)",
   "language": "python",
   "name": "python3"
  },
  "language_info": {
   "codemirror_mode": {
    "name": "ipython",
    "version": 3
   },
   "file_extension": ".py",
   "mimetype": "text/x-python",
   "name": "python",
   "nbconvert_exporter": "python",
   "pygments_lexer": "ipython3",
   "version": "3.9.13"
  }
 },
 "nbformat": 4,
 "nbformat_minor": 5
}
